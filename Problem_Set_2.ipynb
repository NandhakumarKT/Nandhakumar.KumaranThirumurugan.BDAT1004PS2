{
 "cells": [
  {
   "cell_type": "markdown",
   "id": "d6734c97-1460-450a-a1bb-91e7428874f7",
   "metadata": {},
   "source": [
    "# Problem Set 2"
   ]
  },
  {
   "cell_type": "markdown",
   "id": "b6115b36-f2d5-489d-835c-4963a4be9779",
   "metadata": {},
   "source": [
    "## Question 1"
   ]
  },
  {
   "cell_type": "code",
   "execution_count": 1560,
   "id": "2764b30d-a381-490e-b2ab-96df452b2d8c",
   "metadata": {},
   "outputs": [],
   "source": [
    "a = 0\n",
    "\n",
    "def b():\n",
    "    global a\n",
    "    a = c(a)\n",
    "\n",
    "def c(a):\n",
    "    return a + 2"
   ]
  },
  {
   "cell_type": "code",
   "execution_count": 1561,
   "id": "53086d03-fb8c-4aa0-a2bf-73daea8c8daf",
   "metadata": {},
   "outputs": [],
   "source": [
    "b()"
   ]
  },
  {
   "cell_type": "code",
   "execution_count": 1562,
   "id": "be506121-bb76-4009-b7f6-e43f82034ae1",
   "metadata": {},
   "outputs": [],
   "source": [
    "b()"
   ]
  },
  {
   "cell_type": "code",
   "execution_count": 1563,
   "id": "1dc04cd0-6ce3-4272-9dc9-f7a6e7d15cd2",
   "metadata": {},
   "outputs": [],
   "source": [
    "b()"
   ]
  },
  {
   "cell_type": "code",
   "execution_count": 1564,
   "id": "2edef861-7b74-4135-8f22-5d8b90a1230d",
   "metadata": {},
   "outputs": [
    {
     "name": "stdout",
     "output_type": "stream",
     "text": [
      "6\n"
     ]
    }
   ],
   "source": [
    "print(a)"
   ]
  },
  {
   "cell_type": "markdown",
   "id": "ddd55ec1-9f4a-44ea-b9f3-31d5f41d424a",
   "metadata": {},
   "source": [
    "## Output\n",
    "6"
   ]
  },
  {
   "cell_type": "markdown",
   "id": "761615c8-7c14-461f-9700-8945d5e0e99d",
   "metadata": {},
   "source": [
    "## Explaination\n",
    "1. Initial a: 0\n",
    "2. After first b(): 2\n",
    "3. After second b(): 4\n",
    "4. After third b(): 6"
   ]
  },
  {
   "cell_type": "markdown",
   "id": "4828e638-9bb4-429d-bbe8-05f50e411c2d",
   "metadata": {},
   "source": [
    "## Question 2"
   ]
  },
  {
   "cell_type": "code",
   "execution_count": 1568,
   "id": "f9ae5025-8fff-41c5-a7c0-265ad55469d6",
   "metadata": {},
   "outputs": [],
   "source": [
    "def fileLength(filename):\n",
    "    try:\n",
    "        with open(filename, 'r') as infile:\n",
    "            contents = infile.read()\n",
    "            return len(contents)\n",
    "    except FileNotFoundError:\n",
    "        print(f\"File {filename} not found.\")\n",
    "    except IOError:\n",
    "        print(f\"Cannot read file {filename}.\")"
   ]
  },
  {
   "cell_type": "code",
   "execution_count": 1569,
   "id": "0106b3c6-b37d-4f5d-8aac-ecdf3e9112e3",
   "metadata": {},
   "outputs": [
    {
     "name": "stdout",
     "output_type": "stream",
     "text": [
      "File midterm.py not found.\n"
     ]
    }
   ],
   "source": [
    "fileLength('midterm.py')"
   ]
  },
  {
   "cell_type": "markdown",
   "id": "354a4848-a30a-4a41-9db7-736144f028b8",
   "metadata": {},
   "source": [
    "## Output\n",
    "File midterm.py not found."
   ]
  },
  {
   "cell_type": "markdown",
   "id": "5ad33678-209b-4fd8-9fa2-1d30cc13fc61",
   "metadata": {},
   "source": [
    "## Explaination\n",
    "The modified fileLength() function reads the contents of a given file and returns the number of characters. It uses error handling to print friendly messages if the file doesn’t exist or can’t be read, preventing the program from crashing."
   ]
  },
  {
   "cell_type": "markdown",
   "id": "9e02271b-5d67-44d2-b3ed-ae6e278befd6",
   "metadata": {},
   "source": [
    "## Question 3"
   ]
  },
  {
   "cell_type": "code",
   "execution_count": 1573,
   "id": "80fab7ec-bad3-44f4-9723-5f400017b5aa",
   "metadata": {},
   "outputs": [],
   "source": [
    "class Marsupial:\n",
    "    def __init__(self):\n",
    "        self.pouch = []\n",
    "\n",
    "    def put_in_pouch(self, item):\n",
    "        self.pouch.append(item)\n",
    "\n",
    "    def pouch_contents(self):\n",
    "        return self.pouch\n",
    "\n",
    "\n",
    "class Kangaroo(Marsupial):\n",
    "    def __init__(self, x, y):\n",
    "        super().__init__()  \n",
    "        self.x = x\n",
    "        self.y = y\n",
    "\n",
    "    def jump(self, dx, dy):\n",
    "        self.x += dx\n",
    "        self.y += dy\n",
    "\n",
    "    def __str__(self):\n",
    "        return f\"I am a Kangaroo located at coordinates ({self.x},{self.y})\""
   ]
  },
  {
   "cell_type": "code",
   "execution_count": 1574,
   "id": "52997e32-234d-4eac-b520-16bf4bcf26b7",
   "metadata": {},
   "outputs": [
    {
     "name": "stdout",
     "output_type": "stream",
     "text": [
      "['doll', 'firetruck', 'kitten']\n",
      "I am a Kangaroo located at coordinates (0,0)\n",
      "['doll', 'firetruck', 'kitten']\n",
      "I am a Kangaroo located at coordinates (3,0)\n"
     ]
    }
   ],
   "source": [
    "# Create a Marsupial object\n",
    "m = Marsupial()\n",
    "m.put_in_pouch('doll')\n",
    "m.put_in_pouch('firetruck')\n",
    "m.put_in_pouch('kitten')\n",
    "print(m.pouch_contents())  \n",
    "\n",
    "# Create a Kangaroo object\n",
    "k = Kangaroo(0, 0)\n",
    "print(k)  \n",
    "\n",
    "# Add items to the pouch\n",
    "k.put_in_pouch('doll')\n",
    "k.put_in_pouch('firetruck')\n",
    "k.put_in_pouch('kitten')\n",
    "print(k.pouch_contents())  \n",
    "\n",
    "# Jump the kangaroo\n",
    "k.jump(1, 0)\n",
    "k.jump(1, 0)\n",
    "k.jump(1, 0)\n",
    "print(k) "
   ]
  },
  {
   "cell_type": "markdown",
   "id": "379dbc95-ae76-45e5-b8e7-f8a13ecb8503",
   "metadata": {},
   "source": [
    "## Output\n",
    "['doll', 'firetruck', 'kitten']\n",
    "I am a Kangaroo located at coordinates (0,0)\n",
    "['doll', 'firetruck', 'kitten']\n",
    "I am a Kangaroo located at coordinates (3,0)"
   ]
  },
  {
   "cell_type": "markdown",
   "id": "d66dbe58-2b8c-4a4d-8097-45fef32790a9",
   "metadata": {},
   "source": [
    "## Explaination\n",
    "\n",
    "    1.Marsupial Class:\n",
    "\t•\tHas a list called pouch to store items.\n",
    "\t•\tMethods:\n",
    "\t•\tput_in_pouch(item): Adds items to the pouch.\n",
    "\t•\tpouch_contents(): Returns the contents of the pouch.\n",
    "    2.Kangaroo Subclass:\n",
    "\t•\tInherits from Marsupial and adds attributes for coordinates (x, y).\n",
    "\t•\tExtends functionality with:\n",
    "\t•\tjump(dx, dy): Moves the kangaroo by given units along x- and y-axes.\n",
    "\t•\tOverrides __str__ to display the kangaroo’s location as “I am a Kangaroo located at coordinates (x,y)”."
   ]
  },
  {
   "cell_type": "markdown",
   "id": "01c2fb06-840c-4bb8-a083-ddc50462258d",
   "metadata": {},
   "source": [
    "## Question 4"
   ]
  },
  {
   "cell_type": "code",
   "execution_count": 1578,
   "id": "ed730562-87c1-4caf-bd8b-9e02c3d42da7",
   "metadata": {},
   "outputs": [],
   "source": [
    "def collatz(x):\n",
    "    print(x)\n",
    "    if x == 1:  \n",
    "        return\n",
    "    elif x % 2 == 0: \n",
    "        collatz(x // 2)\n",
    "    else: \n",
    "        collatz(3 * x + 1)"
   ]
  },
  {
   "cell_type": "code",
   "execution_count": 1579,
   "id": "38bf6616-fe2c-43ee-8feb-64caec6d64a5",
   "metadata": {},
   "outputs": [
    {
     "name": "stdout",
     "output_type": "stream",
     "text": [
      "1\n",
      "10\n",
      "5\n",
      "16\n",
      "8\n",
      "4\n",
      "2\n",
      "1\n"
     ]
    }
   ],
   "source": [
    "collatz(1)\n",
    "collatz(10)"
   ]
  },
  {
   "cell_type": "markdown",
   "id": "48a7bbe3-13a7-4fdc-b4e5-5535bdc44152",
   "metadata": {},
   "source": [
    "## Explaination\n",
    "\n",
    "\t•\tIf x is 1, it stops.\n",
    "\t•\tIf x is even, it calls collatz(x // 2).\n",
    "\t•\tIf x is odd, it calls collatz(3 * x + 1)."
   ]
  },
  {
   "cell_type": "markdown",
   "id": "86fd5878-f385-4d8d-a9e1-2fd048320e6f",
   "metadata": {},
   "source": [
    "## Question 5"
   ]
  },
  {
   "cell_type": "code",
   "execution_count": 1582,
   "id": "5d705471-9669-4bdb-b204-d03f6f5b1c90",
   "metadata": {},
   "outputs": [],
   "source": [
    "def binary(n):\n",
    "    if n < 2:  \n",
    "        print(n, end='')\n",
    "    else:\n",
    "        binary(n // 2)  \n",
    "        print(n % 2, end='') "
   ]
  },
  {
   "cell_type": "code",
   "execution_count": 1583,
   "id": "a45e4b6a-eb17-484a-b1fb-8f71402ff6e1",
   "metadata": {},
   "outputs": [
    {
     "name": "stdout",
     "output_type": "stream",
     "text": [
      "01111001"
     ]
    }
   ],
   "source": [
    "binary(0) \n",
    "binary(1)  \n",
    "binary(3) \n",
    "binary(9) "
   ]
  },
  {
   "cell_type": "markdown",
   "id": "bf25c764-d5c6-4606-bbed-8377a7ef18a9",
   "metadata": {},
   "source": [
    "## Explaination \n",
    "The binary() function recursively prints the binary representation of a non-negative integer n. It:\n",
    "\n",
    "\t•\tPrints n directly if it’s 0 or 1 (base case).\n",
    "\t•\tDivides n by 2 and calls itself recursively to handle higher-order bits.\n",
    "\t•\tPrints the remainder (n % 2) to show the lower-order bits.\n",
    "The recursion ensures the binary digits are printed in the correct order."
   ]
  },
  {
   "cell_type": "markdown",
   "id": "70c681cf-2d5a-4e84-a037-1dd278332f59",
   "metadata": {},
   "source": [
    "## Question 6"
   ]
  },
  {
   "cell_type": "code",
   "execution_count": 1586,
   "id": "9caa04d8-50f2-48e4-975b-62ff35ce7bac",
   "metadata": {},
   "outputs": [],
   "source": [
    "from html.parser import HTMLParser\n",
    "\n",
    "class HeadingParser(HTMLParser):\n",
    "    def __init__(self):\n",
    "        super().__init__()\n",
    "        self.current_heading = None  \n",
    "        self.is_heading = False      \n",
    "\n",
    "    def handle_starttag(self, tag, attrs):\n",
    "       \n",
    "        if tag in ['h1', 'h2', 'h3', 'h4', 'h5', 'h6']:\n",
    "            self.current_heading = int(tag[1]) \n",
    "            self.is_heading = True\n",
    "\n",
    "    def handle_endtag(self, tag):\n",
    "        if tag in ['h1', 'h2', 'h3', 'h4', 'h5', 'h6']:\n",
    "            self.is_heading = False\n",
    "\n",
    "    def handle_data(self, data):\n",
    "        if self.is_heading:\n",
    "            print(' ' * (self.current_heading - 1) + data.strip())"
   ]
  },
  {
   "cell_type": "code",
   "execution_count": 1587,
   "id": "65822096-c398-435c-bfd4-b54d855c8188",
   "metadata": {},
   "outputs": [
    {
     "name": "stdout",
     "output_type": "stream",
     "text": [
      "W3C Mission\n",
      " Principles\n"
     ]
    }
   ],
   "source": [
    "infile = open('w3c.html')\n",
    "content = infile.read()\n",
    "infile.close()\n",
    "\n",
    "hp = HeadingParser()\n",
    "hp.feed(content)"
   ]
  },
  {
   "cell_type": "markdown",
   "id": "579e0409-63d9-48ea-b0f1-1928edc83fa5",
   "metadata": {},
   "source": [
    "## Explaination\n",
    "\n",
    "The HeadingParser class, a subclass of HTMLParser, extracts and prints headings (h1 to h6) from an HTML document. It:\n",
    "\n",
    "\t1.\tTracks the current heading level.\n",
    "\t2.\tPrints each heading with indentation based on its level (<h1> has 0 spaces, <h2> has 1 space, etc.).\n",
    "\t3.\tUses methods to handle start tags, end tags, and data to manage heading extraction.\n",
    "\n",
    "The parser processes HTML content and displays the headings in the order they appear, with proper indentation."
   ]
  },
  {
   "cell_type": "markdown",
   "id": "d636b80a-eafc-4a49-8d8d-8f72b4bf223d",
   "metadata": {},
   "source": [
    "## Question 7"
   ]
  },
  {
   "cell_type": "code",
   "execution_count": 1590,
   "id": "75990553-6578-4b4e-a35f-f974bcba29c3",
   "metadata": {},
   "outputs": [],
   "source": [
    "import requests\n",
    "from bs4 import BeautifulSoup\n",
    "\n",
    "def webdir(url, depth, indent):\n",
    "    if depth < 0: \n",
    "        return\n",
    "\n",
    "    print(' ' * indent + url)\n",
    "\n",
    "    try:\n",
    "        response = requests.get(url)\n",
    "        response.raise_for_status()  \n",
    "        content = response.text\n",
    "\n",
    "        soup = BeautifulSoup(content, 'html.parser')\n",
    "\n",
    "        links = [a.get('href') for a in soup.find_all('a', href=True)]\n",
    "\n",
    "        for link in links:\n",
    "            if link.startswith('http'):  # Only follow absolute URLs\n",
    "                webdir(link, depth - 1, indent + 1)\n",
    "\n",
    "    except Exception as e:\n",
    "        print(' ' * indent + f\"Error accessing {url}: {e}\")"
   ]
  },
  {
   "cell_type": "code",
   "execution_count": 1591,
   "id": "2b820df3-9511-436b-b8dd-9f115e77d444",
   "metadata": {},
   "outputs": [
    {
     "name": "stdout",
     "output_type": "stream",
     "text": [
      "http://reed.cs.depaul.edu/lperkovic/csc242/test1.html\n",
      "Error accessing http://reed.cs.depaul.edu/lperkovic/csc242/test1.html: 404 Client Error:  for url: http://reed.cs.depaul.edu/lperkovic/csc242/test1.html\n"
     ]
    }
   ],
   "source": [
    "webdir('http://reed.cs.depaul.edu/lperkovic/csc242/test1.html', 2, 0)"
   ]
  },
  {
   "cell_type": "markdown",
   "id": "5ed44011-21c8-4382-87d4-cabb4bdead69",
   "metadata": {},
   "source": [
    "## Explaination\n",
    "The webdir() function recursively crawls web pages starting from a given URL, up to a specified depth, printing URLs with indentation to represent their hierarchy. It uses the requests library to fetch web content and BeautifulSoup to parse HTML.\n",
    "\n",
    "\n",
    "\t1.\tBase Case: Stops recursion if the depth is less than 0.\n",
    "\t2.\tPrints URLs: Prints the current URL with indentation based on depth.\n",
    "\t3.\tFetches Web Pages: Uses requests.get(url) and handles HTTP errors with raise_for_status().\n",
    "\t4.\tParses Links: Uses BeautifulSoup to extract all links (<a> tags).\n",
    "\t5.\tRecursive Calls: Calls webdir() on each valid URL, reducing depth and increasing indentation."
   ]
  },
  {
   "cell_type": "markdown",
   "id": "f2e7e0d8-3682-4733-8e6f-2c40a79da466",
   "metadata": {},
   "source": [
    "## Question 8"
   ]
  },
  {
   "cell_type": "markdown",
   "id": "50bc9100-18ef-4f08-a04c-fe99af55e969",
   "metadata": {},
   "source": [
    "\n",
    "# SQL Queries for Temperature and Rainfall Database\n",
    "\n",
    "## a) All the temperature data\n",
    "SELECT Temperature\n",
    "FROM table_name;\n",
    "\n",
    "## b) All the cities, but without repetition\n",
    "SELECT DISTINCT City\n",
    "FROM table_name;\n",
    "\n",
    "## c) All the records for India\n",
    "SELECT *\n",
    "FROM table_name\n",
    "WHERE Country = 'India';\n",
    "\n",
    "## d) All the Fall records\n",
    "SELECT *\n",
    "FROM table_name\n",
    "WHERE Season = 'Fall';\n",
    "\n",
    "## e) City, Country, and Season where the average rainfall is between 200 and 400 mm\n",
    "SELECT City, Country, Season\n",
    "FROM table_name\n",
    "WHERE Rainfall BETWEEN 200 AND 400;\n",
    "\n",
    "## f) City and Country where the average Fall temperature is above 20°C, in increasing temperature order\n",
    "SELECT City, Country\n",
    "FROM table_name\n",
    "WHERE Season = 'Fall' AND Temperature > 20\n",
    "ORDER BY Temperature ASC;\n",
    "\n",
    "## g) Total annual rainfall for Cairo\n",
    "SELECT SUM(Rainfall) AS Total_Annual_Rainfall\n",
    "FROM table_name\n",
    "WHERE City = 'Cairo';\n",
    "\n",
    "## h) Total rainfall for each season\n",
    "SELECT Season, SUM(Rainfall) AS Total_Rainfall\n",
    "FROM table_name\n",
    "GROUP BY Season;\n"
   ]
  },
  {
   "cell_type": "markdown",
   "id": "6d265021-4a52-4f51-a659-82a930135719",
   "metadata": {},
   "source": [
    "## Explanation\n",
    "\n",
    "\t•\ta) Returns all temperatures from the table.\n",
    "\t•\tb) Selects distinct cities to avoid duplicates.\n",
    "\t•\tc) Filters and returns all records for India.\n",
    "\t•\td) Filters and returns all records for the Fall season.\n",
    "\t•\te) Returns city, country, and season with rainfall between 200 and 400 mm.\n",
    "\t•\tf) Lists cities and countries where Fall temperature exceeds 20°C, sorted in ascending order.\n",
    "\t•\tg) Sums annual rainfall for Cairo.\n",
    "\t•\th) Groups and sums rainfall by season."
   ]
  },
  {
   "cell_type": "markdown",
   "id": "f581912b-6f38-4d2a-866d-9fc99f4ee1f9",
   "metadata": {},
   "source": [
    "## Question 9"
   ]
  },
  {
   "cell_type": "code",
   "execution_count": 1597,
   "id": "bfe71338-2f92-4c9d-a196-824d060b25c5",
   "metadata": {},
   "outputs": [],
   "source": [
    "words = ['The', 'quick', 'brown', 'fox', 'jumps', 'over', 'the', 'lazy', 'dog']"
   ]
  },
  {
   "cell_type": "markdown",
   "id": "c9377f30-f43c-4468-a779-83a0ee38bdb4",
   "metadata": {},
   "source": [
    "## a) Uppercase All Words"
   ]
  },
  {
   "cell_type": "code",
   "execution_count": 1599,
   "id": "07cd94ae-c11a-4a34-b7f5-381dd232e71a",
   "metadata": {},
   "outputs": [
    {
     "name": "stdout",
     "output_type": "stream",
     "text": [
      "['THE', 'QUICK', 'BROWN', 'FOX', 'JUMPS', 'OVER', 'THE', 'LAZY', 'DOG']\n"
     ]
    }
   ],
   "source": [
    "uppercase_words = [word.upper() for word in words]\n",
    "print(uppercase_words)"
   ]
  },
  {
   "cell_type": "markdown",
   "id": "42920d67-05ea-49aa-99de-b447a5dd1eee",
   "metadata": {},
   "source": [
    "## b) Lowercase All Words"
   ]
  },
  {
   "cell_type": "code",
   "execution_count": 1601,
   "id": "1b625eb0-3e12-4bc6-863c-1a1a677f44b2",
   "metadata": {},
   "outputs": [
    {
     "name": "stdout",
     "output_type": "stream",
     "text": [
      "['the', 'quick', 'brown', 'fox', 'jumps', 'over', 'the', 'lazy', 'dog']\n"
     ]
    }
   ],
   "source": [
    "lowercase_words = [word.lower() for word in words]\n",
    "print(lowercase_words)"
   ]
  },
  {
   "cell_type": "markdown",
   "id": "3527979d-2e8d-4914-97b0-dc32379db6ae",
   "metadata": {},
   "source": [
    "## c) List of Word Lengths "
   ]
  },
  {
   "cell_type": "code",
   "execution_count": 1603,
   "id": "4e7ddd40-d02d-45d7-aa6e-c805d2992737",
   "metadata": {},
   "outputs": [
    {
     "name": "stdout",
     "output_type": "stream",
     "text": [
      "[3, 5, 5, 3, 5, 4, 3, 4, 3]\n"
     ]
    }
   ],
   "source": [
    "word_lengths = [len(word) for word in words]\n",
    "print(word_lengths)"
   ]
  },
  {
   "cell_type": "markdown",
   "id": "7227898d-a985-42ff-beb9-45d695cd45ee",
   "metadata": {},
   "source": [
    "## d) List of Word Details (Uppercase, Lowercase, Length)"
   ]
  },
  {
   "cell_type": "code",
   "execution_count": 1605,
   "id": "9691e728-e04a-4020-9866-2b8601078c6c",
   "metadata": {},
   "outputs": [
    {
     "name": "stdout",
     "output_type": "stream",
     "text": [
      "[['THE', 'the', 3], ['QUICK', 'quick', 5], ['BROWN', 'brown', 5], ['FOX', 'fox', 3], ['JUMPS', 'jumps', 5], ['OVER', 'over', 4], ['THE', 'the', 3], ['LAZY', 'lazy', 4], ['DOG', 'dog', 3]]\n"
     ]
    }
   ],
   "source": [
    "word_details = [[word.upper(), word.lower(), len(word)] for word in words]\n",
    "print(word_details)"
   ]
  },
  {
   "cell_type": "markdown",
   "id": "cc915251-f653-4036-8b26-91586229fb9e",
   "metadata": {},
   "source": [
    "## e) Words with 4 or More Characters"
   ]
  },
  {
   "cell_type": "code",
   "execution_count": 1607,
   "id": "50ebd4ea-06eb-498e-a3a3-be6cfcf7561e",
   "metadata": {},
   "outputs": [
    {
     "name": "stdout",
     "output_type": "stream",
     "text": [
      "['quick', 'brown', 'jumps', 'over', 'lazy']\n"
     ]
    }
   ],
   "source": [
    "long_words = [word for word in words if len(word) >= 4]\n",
    "print(long_words)"
   ]
  },
  {
   "cell_type": "markdown",
   "id": "6f7b85f3-edd0-4ae8-a429-0a106dc1ea39",
   "metadata": {},
   "source": [
    "## Explanation\n",
    "The solution uses list comprehensions to manipulate the given list words:\n",
    "\n",
    "\t1.\tUppercase All Words: Converts all words to uppercase.\n",
    "\t2.\tLowercase All Words: Converts all words to lowercase.\n",
    "\t3.\tList of Word Lengths: Creates a list of word lengths.\n",
    "\t4.\tWord Details List: Creates a list of sublists, each containing the word in uppercase, lowercase, and its length.\n",
    "\t5.\tWords with 4+ Characters: Filters words that have 4 or more characters.\n",
    "\n",
    "Each list comprehension processes words to meet the specified criteria efficiently."
   ]
  }
 ],
 "metadata": {
  "kernelspec": {
   "display_name": "Python 3 (ipykernel)",
   "language": "python",
   "name": "python3"
  },
  "language_info": {
   "codemirror_mode": {
    "name": "ipython",
    "version": 3
   },
   "file_extension": ".py",
   "mimetype": "text/x-python",
   "name": "python",
   "nbconvert_exporter": "python",
   "pygments_lexer": "ipython3",
   "version": "3.12.4"
  }
 },
 "nbformat": 4,
 "nbformat_minor": 5
}
